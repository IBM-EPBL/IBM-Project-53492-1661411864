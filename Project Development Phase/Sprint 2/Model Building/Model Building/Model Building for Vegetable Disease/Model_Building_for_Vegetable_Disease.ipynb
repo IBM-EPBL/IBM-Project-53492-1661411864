{
  "nbformat": 4,
  "nbformat_minor": 0,
  "metadata": {
    "colab": {
      "provenance": []
    },
    "kernelspec": {
      "name": "python3",
      "display_name": "Python 3"
    },
    "language_info": {
      "name": "python"
    }
  },
  "cells": [
    {
      "cell_type": "markdown",
      "source": [
        "**Team ID : PNT2022TMID25585**"
      ],
      "metadata": {
        "id": "zh0APrw6zcGS"
      }
    },
    {
      "cell_type": "markdown",
      "source": [
        "**Model building for vegetable disease**"
      ],
      "metadata": {
        "id": "oV21Q4OGzzbf"
      }
    },
    {
      "cell_type": "code",
      "execution_count": 1,
      "metadata": {
        "id": "gE-pZjFLyKhs"
      },
      "outputs": [],
      "source": [
        "from keras.preprocessing.image import ImageDataGenerator\n",
        "train_datagen=ImageDataGenerator(rescale=1./255,shear_range=0.2,zoom_range=0.2,horizontal_flip=True)\n",
        "test_datagen=ImageDataGenerator(rescale=1)"
      ]
    },
    {
      "cell_type": "code",
      "source": [
        "x_train=train_datagen.flow_from_directory('/content/drive/MyDrive/Dataset/Dataset Plant Disease/Veg-dataset/Veg-dataset/test_set',target_size=(128,128),batch_size=2,class_mode='categorical')\n",
        "x_test=test_datagen.flow_from_directory('/content/drive/MyDrive/Dataset/Dataset Plant Disease/Veg-dataset/Veg-dataset/train_set',target_size=(128,128),batch_size=2,class_mode='categorical')"
      ],
      "metadata": {
        "colab": {
          "base_uri": "https://localhost:8080/"
        },
        "id": "ymAv14oK0SeZ",
        "outputId": "fb5866ff-7b65-48a6-c25d-96c5ecb49985"
      },
      "execution_count": 2,
      "outputs": [
        {
          "output_type": "stream",
          "name": "stdout",
          "text": [
            "Found 3426 images belonging to 9 classes.\n",
            "Found 11406 images belonging to 9 classes.\n"
          ]
        }
      ]
    },
    {
      "cell_type": "code",
      "source": [
        "from keras.models import Sequential\n",
        "from keras.layers import Dense\n",
        "from keras.layers import Convolution2D\n",
        "from keras.layers import MaxPooling2D\n",
        "from keras.layers import Flatten"
      ],
      "metadata": {
        "id": "7PhwUGyh02bh"
      },
      "execution_count": 3,
      "outputs": []
    },
    {
      "cell_type": "code",
      "source": [
        "model=Sequential()"
      ],
      "metadata": {
        "id": "PUXwJuCu1AA9"
      },
      "execution_count": 4,
      "outputs": []
    },
    {
      "cell_type": "code",
      "source": [
        "model.add(Convolution2D(32,(3,3),input_shape=(128,128,3),activation='relu'))"
      ],
      "metadata": {
        "id": "FwEyJR9Z1GpI"
      },
      "execution_count": 5,
      "outputs": []
    },
    {
      "cell_type": "code",
      "source": [
        "model.add(MaxPooling2D(pool_size=(2,2)))"
      ],
      "metadata": {
        "id": "xPfGuim11Lio"
      },
      "execution_count": 6,
      "outputs": []
    },
    {
      "cell_type": "code",
      "source": [
        "model.add(Flatten())"
      ],
      "metadata": {
        "id": "yxeTyRNU1Pc4"
      },
      "execution_count": 7,
      "outputs": []
    },
    {
      "cell_type": "code",
      "source": [
        "model.add(Dense(units=300,kernel_initializer='uniform',activation='relu'))"
      ],
      "metadata": {
        "id": "sbzDRkeT1cKz"
      },
      "execution_count": 8,
      "outputs": []
    },
    {
      "cell_type": "code",
      "source": [
        "model.add(Dense(units=150,kernel_initializer='random_uniform',activation='relu'))"
      ],
      "metadata": {
        "id": "Ua0FrRbK1h9x"
      },
      "execution_count": 9,
      "outputs": []
    },
    {
      "cell_type": "code",
      "source": [
        "model.add(Dense(units=75,kernel_initializer='uniform',activation='relu'))"
      ],
      "metadata": {
        "id": "yCyAoeHg1mZS"
      },
      "execution_count": 10,
      "outputs": []
    },
    {
      "cell_type": "code",
      "source": [
        "model.add(Dense(units=9,kernel_initializer='uniform',activation='softmax'))"
      ],
      "metadata": {
        "id": "QNgy1p6d1qHI"
      },
      "execution_count": 11,
      "outputs": []
    },
    {
      "cell_type": "code",
      "source": [
        "model.compile(loss='categorical_crossentropy',optimizer=\"adam\",metrics=[\"accuracy\"])"
      ],
      "metadata": {
        "id": "rNH2Jczu1uP2"
      },
      "execution_count": 12,
      "outputs": []
    },
    {
      "cell_type": "code",
      "source": [
        "model.fit(x_train,steps_per_epoch=89,epochs=20,validation_data=x_test,validation_steps=27)"
      ],
      "metadata": {
        "colab": {
          "base_uri": "https://localhost:8080/"
        },
        "id": "cmc4LF2Z2J6q",
        "outputId": "1f4ca74d-ead4-4fe8-9242-ce3066c41f26"
      },
      "execution_count": 13,
      "outputs": [
        {
          "output_type": "stream",
          "name": "stdout",
          "text": [
            "Epoch 1/20\n",
            "89/89 [==============================] - 81s 902ms/step - loss: 2.1837 - accuracy: 0.2135 - val_loss: 160.5284 - val_accuracy: 0.1481\n",
            "Epoch 2/20\n",
            "89/89 [==============================] - 80s 891ms/step - loss: 2.0296 - accuracy: 0.2360 - val_loss: 106.1525 - val_accuracy: 0.1852\n",
            "Epoch 3/20\n",
            "89/89 [==============================] - 77s 857ms/step - loss: 2.1412 - accuracy: 0.1854 - val_loss: 96.1749 - val_accuracy: 0.0185\n",
            "Epoch 4/20\n",
            "89/89 [==============================] - 73s 819ms/step - loss: 2.0925 - accuracy: 0.1685 - val_loss: 65.8372 - val_accuracy: 0.1296\n",
            "Epoch 5/20\n",
            "89/89 [==============================] - 71s 801ms/step - loss: 2.1114 - accuracy: 0.1966 - val_loss: 58.4836 - val_accuracy: 0.0926\n",
            "Epoch 6/20\n",
            "89/89 [==============================] - 71s 794ms/step - loss: 2.0696 - accuracy: 0.2135 - val_loss: 127.0165 - val_accuracy: 0.1296\n",
            "Epoch 7/20\n",
            "89/89 [==============================] - 69s 776ms/step - loss: 2.0541 - accuracy: 0.1854 - val_loss: 44.0205 - val_accuracy: 0.0926\n",
            "Epoch 8/20\n",
            "89/89 [==============================] - 68s 756ms/step - loss: 2.0583 - accuracy: 0.2360 - val_loss: 48.8026 - val_accuracy: 0.3704\n",
            "Epoch 9/20\n",
            "89/89 [==============================] - 69s 774ms/step - loss: 2.0269 - accuracy: 0.2303 - val_loss: 87.2327 - val_accuracy: 0.1667\n",
            "Epoch 10/20\n",
            "89/89 [==============================] - 66s 744ms/step - loss: 2.0891 - accuracy: 0.1573 - val_loss: 16.3421 - val_accuracy: 0.1667\n",
            "Epoch 11/20\n",
            "89/89 [==============================] - 67s 756ms/step - loss: 2.0351 - accuracy: 0.2303 - val_loss: 112.2389 - val_accuracy: 0.2037\n",
            "Epoch 12/20\n",
            "89/89 [==============================] - 67s 752ms/step - loss: 2.0738 - accuracy: 0.2809 - val_loss: 16.1273 - val_accuracy: 0.2222\n",
            "Epoch 13/20\n",
            "89/89 [==============================] - 64s 714ms/step - loss: 1.9769 - accuracy: 0.2978 - val_loss: 71.9097 - val_accuracy: 0.2778\n",
            "Epoch 14/20\n",
            "89/89 [==============================] - 65s 731ms/step - loss: 1.9542 - accuracy: 0.3202 - val_loss: 76.1028 - val_accuracy: 0.1852\n",
            "Epoch 15/20\n",
            "89/89 [==============================] - 62s 691ms/step - loss: 1.9048 - accuracy: 0.3146 - val_loss: 122.3619 - val_accuracy: 0.2037\n",
            "Epoch 16/20\n",
            "89/89 [==============================] - 62s 697ms/step - loss: 1.9637 - accuracy: 0.3596 - val_loss: 131.4722 - val_accuracy: 0.2963\n",
            "Epoch 17/20\n",
            "89/89 [==============================] - 62s 690ms/step - loss: 1.8376 - accuracy: 0.3371 - val_loss: 162.8957 - val_accuracy: 0.1111\n",
            "Epoch 18/20\n",
            "89/89 [==============================] - 125s 1s/step - loss: 1.8276 - accuracy: 0.4157 - val_loss: 153.8574 - val_accuracy: 0.2778\n",
            "Epoch 19/20\n",
            "89/89 [==============================] - 62s 698ms/step - loss: 1.6956 - accuracy: 0.3652 - val_loss: 287.2401 - val_accuracy: 0.1667\n",
            "Epoch 20/20\n",
            "89/89 [==============================] - 60s 674ms/step - loss: 1.6190 - accuracy: 0.3876 - val_loss: 233.0133 - val_accuracy: 0.3333\n"
          ]
        },
        {
          "output_type": "execute_result",
          "data": {
            "text/plain": [
              "<keras.callbacks.History at 0x7f33e4ff8b90>"
            ]
          },
          "metadata": {},
          "execution_count": 13
        }
      ]
    },
    {
      "cell_type": "markdown",
      "source": [
        "**Save the Model**"
      ],
      "metadata": {
        "id": "F1W4YuQs9JhT"
      }
    },
    {
      "cell_type": "code",
      "source": [
        "model.save('vegetable.h5')"
      ],
      "metadata": {
        "id": "x96AqP759UHm"
      },
      "execution_count": 14,
      "outputs": []
    },
    {
      "cell_type": "code",
      "source": [
        "model.summary()"
      ],
      "metadata": {
        "colab": {
          "base_uri": "https://localhost:8080/"
        },
        "id": "2I2IAXiP9aq2",
        "outputId": "18fc1269-35ed-48d6-803b-a7b4fc8b3592"
      },
      "execution_count": 15,
      "outputs": [
        {
          "output_type": "stream",
          "name": "stdout",
          "text": [
            "Model: \"sequential\"\n",
            "_________________________________________________________________\n",
            " Layer (type)                Output Shape              Param #   \n",
            "=================================================================\n",
            " conv2d (Conv2D)             (None, 126, 126, 32)      896       \n",
            "                                                                 \n",
            " max_pooling2d (MaxPooling2D  (None, 63, 63, 32)       0         \n",
            " )                                                               \n",
            "                                                                 \n",
            " flatten (Flatten)           (None, 127008)            0         \n",
            "                                                                 \n",
            " dense (Dense)               (None, 300)               38102700  \n",
            "                                                                 \n",
            " dense_1 (Dense)             (None, 150)               45150     \n",
            "                                                                 \n",
            " dense_2 (Dense)             (None, 75)                11325     \n",
            "                                                                 \n",
            " dense_3 (Dense)             (None, 9)                 684       \n",
            "                                                                 \n",
            "=================================================================\n",
            "Total params: 38,160,755\n",
            "Trainable params: 38,160,755\n",
            "Non-trainable params: 0\n",
            "_________________________________________________________________\n"
          ]
        }
      ]
    }
  ]
}