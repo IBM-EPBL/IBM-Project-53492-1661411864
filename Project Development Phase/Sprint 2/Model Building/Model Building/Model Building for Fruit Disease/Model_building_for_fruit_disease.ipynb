{
  "nbformat": 4,
  "nbformat_minor": 0,
  "metadata": {
    "colab": {
      "provenance": []
    },
    "kernelspec": {
      "name": "python3",
      "display_name": "Python 3"
    },
    "language_info": {
      "name": "python"
    }
  },
  "cells": [
    {
      "cell_type": "markdown",
      "source": [
        "**Team ID:PNT2022TMID25585**"
      ],
      "metadata": {
        "id": "lCSpzHTPowXr"
      }
    },
    {
      "cell_type": "markdown",
      "source": [
        "\n",
        "**Model_building_for_fruit_disease**"
      ],
      "metadata": {
        "id": "sguVFGpnhwxH"
      }
    },
    {
      "cell_type": "code",
      "source": [
        "from keras.preprocessing.image import ImageDataGenerator\n",
        "train_datagen=ImageDataGenerator(rescale=1./255,shear_range=0.2,zoom_range=0.2,horizontal_flip=True)\n",
        "test_datagen=ImageDataGenerator(rescale=1)"
      ],
      "metadata": {
        "id": "vp2pYs8Picfo"
      },
      "execution_count": 11,
      "outputs": []
    },
    {
      "cell_type": "code",
      "source": [
        "x_train=train_datagen.flow_from_directory('/content/drive/MyDrive/Dataset/Dataset Plant Disease/fruit-dataset/fruit-dataset/test',target_size=(128,128),batch_size=2,class_mode='categorical')\n",
        "x_test=test_datagen.flow_from_directory('/content/drive/MyDrive/Dataset/Dataset Plant Disease/fruit-dataset/fruit-dataset/train',target_size=(128,128),batch_size=2,class_mode='categorical')"
      ],
      "metadata": {
        "colab": {
          "base_uri": "https://localhost:8080/"
        },
        "id": "jpX3eJnSiosF",
        "outputId": "59641f60-ba0c-497e-bc0d-f8ccacfe8cd5"
      },
      "execution_count": 14,
      "outputs": [
        {
          "output_type": "stream",
          "name": "stdout",
          "text": [
            "Found 1696 images belonging to 6 classes.\n",
            "Found 5384 images belonging to 6 classes.\n"
          ]
        }
      ]
    },
    {
      "cell_type": "code",
      "source": [
        "from keras.models import Sequential\n",
        "from keras.layers import Dense\n",
        "from keras.layers import Convolution2D\n",
        "from keras.layers import MaxPooling2D\n",
        "from keras.layers import Flatten"
      ],
      "metadata": {
        "id": "lIZ0K79GjXdG"
      },
      "execution_count": 13,
      "outputs": []
    },
    {
      "cell_type": "code",
      "source": [
        "model=Sequential()"
      ],
      "metadata": {
        "id": "xHwwwzfojbvW"
      },
      "execution_count": 15,
      "outputs": []
    },
    {
      "cell_type": "code",
      "source": [
        "model.add(Convolution2D(32,(3,3),input_shape=(128,128,3),activation='relu'))"
      ],
      "metadata": {
        "id": "-ejce2Z4jygR"
      },
      "execution_count": 16,
      "outputs": []
    },
    {
      "cell_type": "code",
      "source": [
        "model.add(MaxPooling2D(pool_size=(2,2)))"
      ],
      "metadata": {
        "id": "OCmo6sSMj2po"
      },
      "execution_count": 17,
      "outputs": []
    },
    {
      "cell_type": "code",
      "source": [
        "model.add(Flatten())"
      ],
      "metadata": {
        "id": "5MM1YMc6j6uE"
      },
      "execution_count": 18,
      "outputs": []
    },
    {
      "cell_type": "code",
      "source": [
        "model.add(Dense(units=40,kernel_initializer='uniform',activation='relu'))"
      ],
      "metadata": {
        "id": "al5ng07jj-sB"
      },
      "execution_count": 19,
      "outputs": []
    },
    {
      "cell_type": "code",
      "source": [
        "model.add(Dense(units=20,kernel_initializer='random_uniform',activation='relu'))"
      ],
      "metadata": {
        "id": "otEzO2_xkCqi"
      },
      "execution_count": 20,
      "outputs": []
    },
    {
      "cell_type": "code",
      "source": [
        "model.add(Dense(units=6,kernel_initializer='random_uniform',activation='softmax'))"
      ],
      "metadata": {
        "id": "sL3fS1ubkGV4"
      },
      "execution_count": 21,
      "outputs": []
    },
    {
      "cell_type": "code",
      "source": [
        "model.compile(loss='categorical_crossentropy',optimizer=\"adam\",metrics=[\"accuracy\"])"
      ],
      "metadata": {
        "id": "VRI6LIx4kKS2"
      },
      "execution_count": 22,
      "outputs": []
    },
    {
      "cell_type": "code",
      "source": [
        "model.fit(x_train,steps_per_epoch=89,epochs=20,validation_data=x_test,validation_steps=27)"
      ],
      "metadata": {
        "colab": {
          "base_uri": "https://localhost:8080/"
        },
        "id": "q8OzdYzLkP3p",
        "outputId": "58469e14-d07a-4477-ee23-b97974dad69b"
      },
      "execution_count": 23,
      "outputs": [
        {
          "output_type": "stream",
          "name": "stdout",
          "text": [
            "Epoch 1/20\n",
            "89/89 [==============================] - 65s 726ms/step - loss: 1.7366 - accuracy: 0.2135 - val_loss: 125.6207 - val_accuracy: 0.2407\n",
            "Epoch 2/20\n",
            "89/89 [==============================] - 57s 651ms/step - loss: 1.5435 - accuracy: 0.3876 - val_loss: 72.3321 - val_accuracy: 0.5185\n",
            "Epoch 3/20\n",
            "89/89 [==============================] - 50s 565ms/step - loss: 1.1021 - accuracy: 0.5618 - val_loss: 124.3653 - val_accuracy: 0.6481\n",
            "Epoch 4/20\n",
            "89/89 [==============================] - 50s 565ms/step - loss: 1.1557 - accuracy: 0.5169 - val_loss: 139.8556 - val_accuracy: 0.5926\n",
            "Epoch 5/20\n",
            "89/89 [==============================] - 45s 512ms/step - loss: 0.8450 - accuracy: 0.6798 - val_loss: 73.9618 - val_accuracy: 0.7407\n",
            "Epoch 6/20\n",
            "89/89 [==============================] - 45s 502ms/step - loss: 0.7615 - accuracy: 0.7416 - val_loss: 87.8281 - val_accuracy: 0.7778\n",
            "Epoch 7/20\n",
            "89/89 [==============================] - 40s 451ms/step - loss: 0.7285 - accuracy: 0.7135 - val_loss: 128.5029 - val_accuracy: 0.6852\n",
            "Epoch 8/20\n",
            "89/89 [==============================] - 37s 419ms/step - loss: 0.6487 - accuracy: 0.7528 - val_loss: 63.4502 - val_accuracy: 0.7037\n",
            "Epoch 9/20\n",
            "89/89 [==============================] - 38s 432ms/step - loss: 0.6969 - accuracy: 0.7472 - val_loss: 72.1508 - val_accuracy: 0.6481\n",
            "Epoch 10/20\n",
            "89/89 [==============================] - 30s 338ms/step - loss: 0.6041 - accuracy: 0.7697 - val_loss: 39.2410 - val_accuracy: 0.8519\n",
            "Epoch 11/20\n",
            "89/89 [==============================] - 31s 350ms/step - loss: 0.5469 - accuracy: 0.7921 - val_loss: 79.8305 - val_accuracy: 0.5741\n",
            "Epoch 12/20\n",
            "89/89 [==============================] - 29s 332ms/step - loss: 0.6607 - accuracy: 0.7584 - val_loss: 43.6402 - val_accuracy: 0.8333\n",
            "Epoch 13/20\n",
            "89/89 [==============================] - 30s 338ms/step - loss: 0.6272 - accuracy: 0.7528 - val_loss: 75.0990 - val_accuracy: 0.7222\n",
            "Epoch 14/20\n",
            "89/89 [==============================] - 24s 271ms/step - loss: 0.4723 - accuracy: 0.8315 - val_loss: 91.1881 - val_accuracy: 0.7778\n",
            "Epoch 15/20\n",
            "89/89 [==============================] - 27s 308ms/step - loss: 0.5239 - accuracy: 0.8371 - val_loss: 15.2523 - val_accuracy: 0.8519\n",
            "Epoch 16/20\n",
            "89/89 [==============================] - 25s 277ms/step - loss: 0.4555 - accuracy: 0.8090 - val_loss: 45.8660 - val_accuracy: 0.7778\n",
            "Epoch 17/20\n",
            "89/89 [==============================] - 23s 259ms/step - loss: 0.4876 - accuracy: 0.8371 - val_loss: 145.9730 - val_accuracy: 0.7222\n",
            "Epoch 18/20\n",
            "89/89 [==============================] - 29s 325ms/step - loss: 0.5740 - accuracy: 0.7865 - val_loss: 80.5521 - val_accuracy: 0.6667\n",
            "Epoch 19/20\n",
            "89/89 [==============================] - 25s 276ms/step - loss: 0.4829 - accuracy: 0.8090 - val_loss: 67.5208 - val_accuracy: 0.7778\n",
            "Epoch 20/20\n",
            "89/89 [==============================] - 22s 248ms/step - loss: 0.2488 - accuracy: 0.9326 - val_loss: 33.8498 - val_accuracy: 0.8704\n"
          ]
        },
        {
          "output_type": "execute_result",
          "data": {
            "text/plain": [
              "<keras.callbacks.History at 0x7fb770bd2d90>"
            ]
          },
          "metadata": {},
          "execution_count": 23
        }
      ]
    },
    {
      "cell_type": "markdown",
      "source": [
        "**Save the Model**"
      ],
      "metadata": {
        "id": "-hZ8OsTXoGQ_"
      }
    },
    {
      "cell_type": "code",
      "source": [
        "model.save('fruit.h5')"
      ],
      "metadata": {
        "id": "_LgE_tQSoM6T"
      },
      "execution_count": 24,
      "outputs": []
    },
    {
      "cell_type": "code",
      "source": [
        "model.summary()"
      ],
      "metadata": {
        "colab": {
          "base_uri": "https://localhost:8080/"
        },
        "id": "Q2HSlLaRohO_",
        "outputId": "b6b2e15a-ece0-4b99-9d2b-fddd77f62b7b"
      },
      "execution_count": 25,
      "outputs": [
        {
          "output_type": "stream",
          "name": "stdout",
          "text": [
            "Model: \"sequential\"\n",
            "_________________________________________________________________\n",
            " Layer (type)                Output Shape              Param #   \n",
            "=================================================================\n",
            " conv2d (Conv2D)             (None, 126, 126, 32)      896       \n",
            "                                                                 \n",
            " max_pooling2d (MaxPooling2D  (None, 63, 63, 32)       0         \n",
            " )                                                               \n",
            "                                                                 \n",
            " flatten (Flatten)           (None, 127008)            0         \n",
            "                                                                 \n",
            " dense (Dense)               (None, 40)                5080360   \n",
            "                                                                 \n",
            " dense_1 (Dense)             (None, 20)                820       \n",
            "                                                                 \n",
            " dense_2 (Dense)             (None, 6)                 126       \n",
            "                                                                 \n",
            "=================================================================\n",
            "Total params: 5,082,202\n",
            "Trainable params: 5,082,202\n",
            "Non-trainable params: 0\n",
            "_________________________________________________________________\n"
          ]
        }
      ]
    }
  ]
}